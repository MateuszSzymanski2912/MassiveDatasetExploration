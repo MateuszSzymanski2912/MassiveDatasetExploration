{
  "nbformat": 4,
  "nbformat_minor": 0,
  "metadata": {
    "colab": {
      "provenance": []
    },
    "kernelspec": {
      "name": "python3",
      "display_name": "Python 3"
    },
    "language_info": {
      "name": "python"
    }
  },
  "cells": [
    {
      "cell_type": "markdown",
      "source": [
        "### Task: Implement PCY algorithm"
      ],
      "metadata": {
        "id": "e3aOOgyCoWvN"
      }
    },
    {
      "cell_type": "code",
      "execution_count": 1,
      "metadata": {
        "colab": {
          "base_uri": "https://localhost:8080/"
        },
        "id": "PU50-mqUvjvK",
        "outputId": "e76a7512-59c2-4686-a5cf-b7d3f546d528"
      },
      "outputs": [
        {
          "output_type": "stream",
          "name": "stdout",
          "text": [
            "Collecting mmh3\n",
            "  Downloading mmh3-5.1.0-cp311-cp311-manylinux_2_5_x86_64.manylinux1_x86_64.manylinux_2_17_x86_64.manylinux2014_x86_64.whl.metadata (16 kB)\n",
            "Downloading mmh3-5.1.0-cp311-cp311-manylinux_2_5_x86_64.manylinux1_x86_64.manylinux_2_17_x86_64.manylinux2014_x86_64.whl (101 kB)\n",
            "\u001b[2K   \u001b[90m━━━━━━━━━━━━━━━━━━━━━━━━━━━━━━━━━━━━━━━━\u001b[0m \u001b[32m101.6/101.6 kB\u001b[0m \u001b[31m4.4 MB/s\u001b[0m eta \u001b[36m0:00:00\u001b[0m\n",
            "\u001b[?25hInstalling collected packages: mmh3\n",
            "Successfully installed mmh3-5.1.0\n",
            "Collecting bitarray\n",
            "  Downloading bitarray-3.5.1-cp311-cp311-manylinux_2_17_x86_64.manylinux2014_x86_64.whl.metadata (34 kB)\n",
            "Downloading bitarray-3.5.1-cp311-cp311-manylinux_2_17_x86_64.manylinux2014_x86_64.whl (320 kB)\n",
            "\u001b[2K   \u001b[90m━━━━━━━━━━━━━━━━━━━━━━━━━━━━━━━━━━━━━━━━\u001b[0m \u001b[32m320.5/320.5 kB\u001b[0m \u001b[31m13.1 MB/s\u001b[0m eta \u001b[36m0:00:00\u001b[0m\n",
            "\u001b[?25hInstalling collected packages: bitarray\n",
            "Successfully installed bitarray-3.5.1\n"
          ]
        }
      ],
      "source": [
        "!pip install mmh3\n",
        "!pip install bitarray\n",
        "from bitarray import bitarray\n",
        "import mmh3\n",
        "from itertools import combinations\n",
        "from collections import Counter\n",
        "from random import randint"
      ]
    },
    {
      "cell_type": "markdown",
      "source": [
        "PCY algorithm finds frequent pairs in a set. It is similar to apriori algorythm, because it's also two-pass algorithm and uses apriori property to find frequent pairs. But instead of keeping track of which pairs are frequent, PCY compreses this information by creating bitmap."
      ],
      "metadata": {
        "id": "_d5vhMqApsSy"
      }
    },
    {
      "cell_type": "code",
      "source": [
        "data = []\n",
        "with open('DATASET.csv', 'r') as f:\n",
        "  for line in f:\n",
        "    temp = line.strip().strip(',').split(',')\n",
        "    data.append(set(temp))"
      ],
      "metadata": {
        "id": "7h84LNSkxiRR"
      },
      "execution_count": 2,
      "outputs": []
    },
    {
      "cell_type": "code",
      "source": [
        "data[:10]"
      ],
      "metadata": {
        "colab": {
          "base_uri": "https://localhost:8080/"
        },
        "id": "M5ioWxTMCl6Y",
        "outputId": "7264400f-250a-4bf2-d90f-9176f28c52f7"
      },
      "execution_count": 3,
      "outputs": [
        {
          "output_type": "execute_result",
          "data": {
            "text/plain": [
              "[{'11204', 'Brooklyn', 'LBE'},\n",
              " {'11411', 'BLACK', 'Cambria Heights', 'MBE', 'WBE'},\n",
              " {'10598', 'BLACK', 'MBE', 'Yorktown Heights'},\n",
              " {'11561', 'BLACK', 'Long Beach', 'MBE'},\n",
              " {'11235', 'ASIAN', 'Brooklyn', 'MBE'},\n",
              " {'10010', 'ASIAN', 'MBE', 'New York', 'WBE'},\n",
              " {'10026', 'ASIAN', 'MBE', 'New York'},\n",
              " {'10026', 'BLACK', 'MBE', 'New York'},\n",
              " {'10034', 'HISPANIC', 'MBE', 'New York'},\n",
              " {'10303', 'BLACK', 'MBE', 'Staten Island', 'WBE'}]"
            ]
          },
          "metadata": {},
          "execution_count": 3
        }
      ]
    },
    {
      "cell_type": "code",
      "source": [
        "len(data) #data isn't the biggest, but it will work well for this demo"
      ],
      "metadata": {
        "colab": {
          "base_uri": "https://localhost:8080/"
        },
        "id": "oQytuVEBo8y8",
        "outputId": "27208396-5b4e-4be1-81ab-6c2672a8dbae"
      },
      "execution_count": 4,
      "outputs": [
        {
          "output_type": "execute_result",
          "data": {
            "text/plain": [
              "1420"
            ]
          },
          "metadata": {},
          "execution_count": 4
        }
      ]
    },
    {
      "cell_type": "code",
      "source": [
        "n_buckets = 1000\n",
        "threshold = 20\n",
        "seed1 = randint(1, 1000)\n",
        "seed2 = randint(1, 1000)\n",
        "\n",
        "def h1(item):\n",
        "  return mmh3.hash(\"\".join(item), seed1) % n_buckets\n",
        "\n",
        "def h2(item):\n",
        "  return mmh3.hash(\"\".join(item), seed2) % n_buckets"
      ],
      "metadata": {
        "id": "ZGRt63ed5Hci"
      },
      "execution_count": 5,
      "outputs": []
    },
    {
      "cell_type": "code",
      "source": [
        "#first pass - typical finding of frequent items, but we hash pairs\n",
        "C1 = Counter() #element counter\n",
        "CH1 = Counter() #pair counter\n",
        "\n",
        "for tup in data:\n",
        "  for el in tup:\n",
        "    C1[el] += 1\n",
        "\n",
        "  for pair in combinations(tup, 2):\n",
        "    CH1[h1(pair)] += 1"
      ],
      "metadata": {
        "id": "5KRVUIAWqjD2"
      },
      "execution_count": 6,
      "outputs": []
    },
    {
      "cell_type": "code",
      "source": [
        "#first pass bitmap\n",
        "B1 = bitarray(n_buckets)\n",
        "for el in CH1:\n",
        "  if CH1[el] >= threshold:\n",
        "    B1[el] = 1"
      ],
      "metadata": {
        "id": "eXDJ8jVBwHVs"
      },
      "execution_count": null,
      "outputs": []
    },
    {
      "cell_type": "code",
      "source": [
        "#second pass\n",
        "CH2 = Counter()\n",
        "for tup in data:\n",
        "  for pair in combinations(tup, 2):\n",
        "    if B1[h1(pair)] == 1: #count only those pairs, that first hashing thought were frequent\n",
        "        CH2[h2(pair)] += 1\n",
        "\n",
        "#second pass bitmap\n",
        "B2 = bitarray(n_buckets)\n",
        "for el in CH2:\n",
        "  if CH2[el] >= threshold:\n",
        "    B2[el] = 1"
      ],
      "metadata": {
        "id": "B8S1QC5eD7ta"
      },
      "execution_count": null,
      "outputs": []
    },
    {
      "cell_type": "code",
      "source": [
        "#We only consider frequent items and only then we create candidate pairs from frequent items\n",
        "frequent = []\n",
        "for el in C1:\n",
        "  if C1[el] > threshold:\n",
        "    frequent.append(el)\n",
        "\n",
        "freq_pairs = []\n",
        "for pair in combinations(frequent, 2):\n",
        "  if B1[h1(pair)] == 1 and B2[h2(pair)] == 1:\n",
        "    freq_pairs.append(pair)"
      ],
      "metadata": {
        "id": "rSbZqDxtIZB3"
      },
      "execution_count": null,
      "outputs": []
    },
    {
      "cell_type": "code",
      "source": [
        "freq_pairs"
      ],
      "metadata": {
        "colab": {
          "base_uri": "https://localhost:8080/"
        },
        "id": "wLqqBgGIJPW3",
        "outputId": "041f1ba7-735f-404a-e170-1f7f63930d67"
      },
      "execution_count": null,
      "outputs": [
        {
          "output_type": "execute_result",
          "data": {
            "text/plain": [
              "[('Brooklyn', 'BLACK'),\n",
              " ('Brooklyn', 'WBE'),\n",
              " ('Brooklyn', 'ASIAN'),\n",
              " ('Brooklyn', 'NON-MINORITY'),\n",
              " ('MBE', 'BLACK'),\n",
              " ('MBE', 'WBE'),\n",
              " ('MBE', 'ASIAN'),\n",
              " ('MBE', 'New York'),\n",
              " ('MBE', 'HISPANIC'),\n",
              " ('MBE', '10018'),\n",
              " ('MBE', 'Jamaica'),\n",
              " ('MBE', 'Bronx'),\n",
              " ('MBE', '10001'),\n",
              " ('MBE', '11101'),\n",
              " ('MBE', '10016'),\n",
              " ('BLACK', 'WBE'),\n",
              " ('BLACK', 'New York'),\n",
              " ('ASIAN', 'New York'),\n",
              " ('10010', 'New York'),\n",
              " ('New York', 'NON-MINORITY'),\n",
              " ('New York', '10001')]"
            ]
          },
          "metadata": {},
          "execution_count": 8
        }
      ]
    },
    {
      "cell_type": "code",
      "source": [],
      "metadata": {
        "id": "Eo9XqSvXKh7e"
      },
      "execution_count": null,
      "outputs": []
    }
  ]
}