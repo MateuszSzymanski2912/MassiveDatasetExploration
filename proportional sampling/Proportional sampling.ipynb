{
  "nbformat": 4,
  "nbformat_minor": 0,
  "metadata": {
    "colab": {
      "provenance": []
    },
    "kernelspec": {
      "name": "python3",
      "display_name": "Python 3"
    },
    "language_info": {
      "name": "python"
    }
  },
  "cells": [
    {
      "cell_type": "markdown",
      "source": [
        "#### Task: Find average number of repeated queries of users\n",
        "#### Data: Stream of $3125000$ tuples in the form (user, query)\n",
        "#### Assumptions: We only have disc space for $10\\%$ of the stream"
      ],
      "metadata": {
        "id": "JwIJNPUiiVw-"
      }
    },
    {
      "cell_type": "code",
      "source": [
        "import numpy as np\n",
        "import random\n",
        "import pandas as pd\n",
        "from collections import Counter\n",
        "from google.colab import drive"
      ],
      "metadata": {
        "id": "lyhuBiGBigyH"
      },
      "execution_count": 1,
      "outputs": []
    },
    {
      "cell_type": "code",
      "source": [
        "!pip install mmh3\n",
        "import mmh3"
      ],
      "metadata": {
        "colab": {
          "base_uri": "https://localhost:8080/"
        },
        "id": "_nX4Z7hvnKZV",
        "outputId": "75809936-e18e-4456-b0bb-45e7cd14082f"
      },
      "execution_count": 2,
      "outputs": [
        {
          "output_type": "stream",
          "name": "stdout",
          "text": [
            "Collecting mmh3\n",
            "  Downloading mmh3-5.1.0-cp311-cp311-manylinux_2_5_x86_64.manylinux1_x86_64.manylinux_2_17_x86_64.manylinux2014_x86_64.whl.metadata (16 kB)\n",
            "Downloading mmh3-5.1.0-cp311-cp311-manylinux_2_5_x86_64.manylinux1_x86_64.manylinux_2_17_x86_64.manylinux2014_x86_64.whl (101 kB)\n",
            "\u001b[?25l   \u001b[90m━━━━━━━━━━━━━━━━━━━━━━━━━━━━━━━━━━━━━━━━\u001b[0m \u001b[32m0.0/101.6 kB\u001b[0m \u001b[31m?\u001b[0m eta \u001b[36m-:--:--\u001b[0m\r\u001b[2K   \u001b[90m━━━━━━━━━━━━━━━━━━━━━━━━━━━━━━━━━━━━━━━━\u001b[0m \u001b[32m101.6/101.6 kB\u001b[0m \u001b[31m3.0 MB/s\u001b[0m eta \u001b[36m0:00:00\u001b[0m\n",
            "\u001b[?25hInstalling collected packages: mmh3\n",
            "Successfully installed mmh3-5.1.0\n"
          ]
        }
      ]
    },
    {
      "cell_type": "code",
      "source": [
        "drive.mount('/content/drive')"
      ],
      "metadata": {
        "colab": {
          "base_uri": "https://localhost:8080/"
        },
        "id": "8gfgKX7wOeN9",
        "outputId": "e91f9589-56af-42ea-d0dd-920c32a7841f"
      },
      "execution_count": 3,
      "outputs": [
        {
          "output_type": "stream",
          "name": "stdout",
          "text": [
            "Mounted at /content/drive\n"
          ]
        }
      ]
    },
    {
      "cell_type": "code",
      "source": [
        "def naive(el, a, b):\n",
        "  x = np.random.randint(b)\n",
        "  if x < a:\n",
        "    return True\n",
        "  return False\n",
        "\n",
        "\n",
        "def prop_sampling(el, a, b):\n",
        "  if mmh3.hash(el) % b < a:\n",
        "    return True\n",
        "  return False"
      ],
      "metadata": {
        "id": "6U0I1WzphKtW"
      },
      "execution_count": null,
      "outputs": []
    },
    {
      "cell_type": "markdown",
      "source": [
        "**naive** function returns True around $\\frac{a}{b} * $length of sample\n",
        "\n",
        "**prop_sampling** function also returns True around $\\frac{a}{b} * $length of sample, but it also takes into account the user. We first split samples by users into $b$ buckets and then choose $a$ buckets.\n",
        "\n",
        "It can be summarized, that **naive** function samples randomly by *data*. This means that each user will have about $\\frac{a}{b}$ of their queries sampled. **prop_sampling** function on the other hand samples randomly by *user*. This means that $\\frac{a}{b}$ of user will have all of their queries sampled."
      ],
      "metadata": {
        "id": "29Loxhg9ccqs"
      }
    },
    {
      "cell_type": "code",
      "source": [
        "sample_naive = []\n",
        "sample = []\n",
        "\n",
        "with open('drive/MyDrive/log.txt', 'r') as f:\n",
        "  lines = f.readlines()\n",
        "  for line in lines:\n",
        "    ip, adress = line.split(' ')\n",
        "    if naive(ip, 1, 10):\n",
        "      sample_naive.append(line.split())\n",
        "    if prop_sampling(ip, 1, 10):\n",
        "      sample.append(line.split())"
      ],
      "metadata": {
        "id": "KZQvcMDjtgfZ"
      },
      "execution_count": 23,
      "outputs": []
    },
    {
      "cell_type": "code",
      "source": [
        "sample[:5]"
      ],
      "metadata": {
        "colab": {
          "base_uri": "https://localhost:8080/"
        },
        "id": "1RlzpMFEaFqz",
        "outputId": "fd01d337-39d1-4134-e961-0234dc2af54a"
      },
      "execution_count": 9,
      "outputs": [
        {
          "output_type": "execute_result",
          "data": {
            "text/plain": [
              "[['50.234.80.222', 'http://www.redips.coop'],\n",
              " ['133.98.10.112', 'http://www.becca.melbourne'],\n",
              " ['93.62.167.155', 'http://www.dragonfly.travel'],\n",
              " ['143.205.69.221', 'http://www.ayukawa.biz'],\n",
              " ['11.46.139.55', 'http://www.unremarkable.hamburg']]"
            ]
          },
          "metadata": {},
          "execution_count": 9
        }
      ]
    },
    {
      "cell_type": "code",
      "source": [
        "sample_naive[:5]"
      ],
      "metadata": {
        "colab": {
          "base_uri": "https://localhost:8080/"
        },
        "id": "biQAUk8yaHfr",
        "outputId": "c8443d06-a348-4a5e-93af-9633760eac6c"
      },
      "execution_count": 10,
      "outputs": [
        {
          "output_type": "execute_result",
          "data": {
            "text/plain": [
              "[['121.190.79.2', 'http://www.viceless.int'],\n",
              " ['187.160.180.74', 'http://www.cerite.to'],\n",
              " ['247.92.181.99', 'http://www.contradiction.museum.post'],\n",
              " ['133.98.10.112', 'http://www.becca.melbourne'],\n",
              " ['12.53.210.174', 'http://www.bewitching.doha']]"
            ]
          },
          "metadata": {},
          "execution_count": 10
        }
      ]
    },
    {
      "cell_type": "code",
      "source": [
        "len(sample) #around 10%"
      ],
      "metadata": {
        "colab": {
          "base_uri": "https://localhost:8080/"
        },
        "id": "ICMjH9JqalHR",
        "outputId": "f515087e-b9c0-4a59-e8ee-5e748d727ecd"
      },
      "execution_count": 11,
      "outputs": [
        {
          "output_type": "execute_result",
          "data": {
            "text/plain": [
              "306250"
            ]
          },
          "metadata": {},
          "execution_count": 11
        }
      ]
    },
    {
      "cell_type": "code",
      "source": [
        "len(sample_naive) #around 10%"
      ],
      "metadata": {
        "colab": {
          "base_uri": "https://localhost:8080/"
        },
        "id": "StNttCSFaqBH",
        "outputId": "0d76170e-0ed5-49ee-fac0-26b5cc5874bc"
      },
      "execution_count": 12,
      "outputs": [
        {
          "output_type": "execute_result",
          "data": {
            "text/plain": [
              "311983"
            ]
          },
          "metadata": {},
          "execution_count": 12
        }
      ]
    },
    {
      "cell_type": "markdown",
      "source": [
        "Until this point, both samples look similar"
      ],
      "metadata": {
        "id": "_zasRJNnjnSU"
      }
    },
    {
      "cell_type": "code",
      "source": [
        "def average_query(sample): #this function counts average repeated queries per user\n",
        "  C = Counter()\n",
        "  user = []\n",
        "  query_num = []\n",
        "\n",
        "  for s in sample:\n",
        "    C[tuple(s)] += 1\n",
        "\n",
        "  for c, v in C.items():\n",
        "    user.append(c[0])\n",
        "    query_num.append(v)\n",
        "\n",
        "  data = {'IP': user, 'query_num': query_num}\n",
        "  df = pd.DataFrame(data)\n",
        "  mean_query = df.groupby('IP')['query_num'].mean()\n",
        "  return mean_query"
      ],
      "metadata": {
        "id": "2AiZCjCAZIp3"
      },
      "execution_count": 13,
      "outputs": []
    },
    {
      "cell_type": "markdown",
      "source": [
        "First, let's see what happens on full stream (to see what we should expect from samples)"
      ],
      "metadata": {
        "id": "FiiMi43ij8JX"
      }
    },
    {
      "cell_type": "code",
      "source": [
        "full = []\n",
        "for line in lines:\n",
        "  full.append(line.split())"
      ],
      "metadata": {
        "id": "gdqQfVeMkHvz"
      },
      "execution_count": null,
      "outputs": []
    },
    {
      "cell_type": "code",
      "source": [
        "average_query(full)"
      ],
      "metadata": {
        "colab": {
          "base_uri": "https://localhost:8080/",
          "height": 490
        },
        "id": "kC3ebQsokLMV",
        "outputId": "8727ece8-cd4b-45f5-8f84-86ab1bd28315"
      },
      "execution_count": 22,
      "outputs": [
        {
          "output_type": "execute_result",
          "data": {
            "text/plain": [
              "IP\n",
              "0.121.29.95       1.253510\n",
              "0.245.23.91       1.254013\n",
              "0.44.201.13       1.253007\n",
              "10.125.23.188     1.255524\n",
              "10.220.49.64      1.253007\n",
              "                    ...   \n",
              "99.0.160.14       1.255524\n",
              "99.225.132.208    1.254516\n",
              "99.230.7.44       1.256029\n",
              "99.24.82.194      1.253510\n",
              "99.32.91.232      1.257039\n",
              "Name: query_num, Length: 1000, dtype: float64"
            ],
            "text/html": [
              "<div>\n",
              "<style scoped>\n",
              "    .dataframe tbody tr th:only-of-type {\n",
              "        vertical-align: middle;\n",
              "    }\n",
              "\n",
              "    .dataframe tbody tr th {\n",
              "        vertical-align: top;\n",
              "    }\n",
              "\n",
              "    .dataframe thead th {\n",
              "        text-align: right;\n",
              "    }\n",
              "</style>\n",
              "<table border=\"1\" class=\"dataframe\">\n",
              "  <thead>\n",
              "    <tr style=\"text-align: right;\">\n",
              "      <th></th>\n",
              "      <th>query_num</th>\n",
              "    </tr>\n",
              "    <tr>\n",
              "      <th>IP</th>\n",
              "      <th></th>\n",
              "    </tr>\n",
              "  </thead>\n",
              "  <tbody>\n",
              "    <tr>\n",
              "      <th>0.121.29.95</th>\n",
              "      <td>1.253510</td>\n",
              "    </tr>\n",
              "    <tr>\n",
              "      <th>0.245.23.91</th>\n",
              "      <td>1.254013</td>\n",
              "    </tr>\n",
              "    <tr>\n",
              "      <th>0.44.201.13</th>\n",
              "      <td>1.253007</td>\n",
              "    </tr>\n",
              "    <tr>\n",
              "      <th>10.125.23.188</th>\n",
              "      <td>1.255524</td>\n",
              "    </tr>\n",
              "    <tr>\n",
              "      <th>10.220.49.64</th>\n",
              "      <td>1.253007</td>\n",
              "    </tr>\n",
              "    <tr>\n",
              "      <th>...</th>\n",
              "      <td>...</td>\n",
              "    </tr>\n",
              "    <tr>\n",
              "      <th>99.0.160.14</th>\n",
              "      <td>1.255524</td>\n",
              "    </tr>\n",
              "    <tr>\n",
              "      <th>99.225.132.208</th>\n",
              "      <td>1.254516</td>\n",
              "    </tr>\n",
              "    <tr>\n",
              "      <th>99.230.7.44</th>\n",
              "      <td>1.256029</td>\n",
              "    </tr>\n",
              "    <tr>\n",
              "      <th>99.24.82.194</th>\n",
              "      <td>1.253510</td>\n",
              "    </tr>\n",
              "    <tr>\n",
              "      <th>99.32.91.232</th>\n",
              "      <td>1.257039</td>\n",
              "    </tr>\n",
              "  </tbody>\n",
              "</table>\n",
              "<p>1000 rows × 1 columns</p>\n",
              "</div><br><label><b>dtype:</b> float64</label>"
            ]
          },
          "metadata": {},
          "execution_count": 22
        }
      ]
    },
    {
      "cell_type": "code",
      "source": [
        "average_query(sample_naive)"
      ],
      "metadata": {
        "colab": {
          "base_uri": "https://localhost:8080/",
          "height": 490
        },
        "id": "BnhCWwriaMdQ",
        "outputId": "ebb244bc-133f-44ed-fcd7-d8067680c438"
      },
      "execution_count": 14,
      "outputs": [
        {
          "output_type": "execute_result",
          "data": {
            "text/plain": [
              "IP\n",
              "0.121.29.95       1.010714\n",
              "0.245.23.91       1.022508\n",
              "0.44.201.13       1.018315\n",
              "10.125.23.188     1.009036\n",
              "10.220.49.64      1.012780\n",
              "                    ...   \n",
              "99.0.160.14       1.023810\n",
              "99.225.132.208    1.031359\n",
              "99.230.7.44       1.030822\n",
              "99.24.82.194      1.015924\n",
              "99.32.91.232      1.016393\n",
              "Name: query_num, Length: 1000, dtype: float64"
            ],
            "text/html": [
              "<div>\n",
              "<style scoped>\n",
              "    .dataframe tbody tr th:only-of-type {\n",
              "        vertical-align: middle;\n",
              "    }\n",
              "\n",
              "    .dataframe tbody tr th {\n",
              "        vertical-align: top;\n",
              "    }\n",
              "\n",
              "    .dataframe thead th {\n",
              "        text-align: right;\n",
              "    }\n",
              "</style>\n",
              "<table border=\"1\" class=\"dataframe\">\n",
              "  <thead>\n",
              "    <tr style=\"text-align: right;\">\n",
              "      <th></th>\n",
              "      <th>query_num</th>\n",
              "    </tr>\n",
              "    <tr>\n",
              "      <th>IP</th>\n",
              "      <th></th>\n",
              "    </tr>\n",
              "  </thead>\n",
              "  <tbody>\n",
              "    <tr>\n",
              "      <th>0.121.29.95</th>\n",
              "      <td>1.010714</td>\n",
              "    </tr>\n",
              "    <tr>\n",
              "      <th>0.245.23.91</th>\n",
              "      <td>1.022508</td>\n",
              "    </tr>\n",
              "    <tr>\n",
              "      <th>0.44.201.13</th>\n",
              "      <td>1.018315</td>\n",
              "    </tr>\n",
              "    <tr>\n",
              "      <th>10.125.23.188</th>\n",
              "      <td>1.009036</td>\n",
              "    </tr>\n",
              "    <tr>\n",
              "      <th>10.220.49.64</th>\n",
              "      <td>1.012780</td>\n",
              "    </tr>\n",
              "    <tr>\n",
              "      <th>...</th>\n",
              "      <td>...</td>\n",
              "    </tr>\n",
              "    <tr>\n",
              "      <th>99.0.160.14</th>\n",
              "      <td>1.023810</td>\n",
              "    </tr>\n",
              "    <tr>\n",
              "      <th>99.225.132.208</th>\n",
              "      <td>1.031359</td>\n",
              "    </tr>\n",
              "    <tr>\n",
              "      <th>99.230.7.44</th>\n",
              "      <td>1.030822</td>\n",
              "    </tr>\n",
              "    <tr>\n",
              "      <th>99.24.82.194</th>\n",
              "      <td>1.015924</td>\n",
              "    </tr>\n",
              "    <tr>\n",
              "      <th>99.32.91.232</th>\n",
              "      <td>1.016393</td>\n",
              "    </tr>\n",
              "  </tbody>\n",
              "</table>\n",
              "<p>1000 rows × 1 columns</p>\n",
              "</div><br><label><b>dtype:</b> float64</label>"
            ]
          },
          "metadata": {},
          "execution_count": 14
        }
      ]
    },
    {
      "cell_type": "code",
      "source": [
        "average_query(sample)"
      ],
      "metadata": {
        "colab": {
          "base_uri": "https://localhost:8080/",
          "height": 490
        },
        "id": "HMRSwKzdaT-T",
        "outputId": "b56887a6-cd54-4bdb-e703-9fb0b0e33f37"
      },
      "execution_count": 15,
      "outputs": [
        {
          "output_type": "execute_result",
          "data": {
            "text/plain": [
              "IP\n",
              "0.245.23.91        1.254013\n",
              "104.107.150.164    1.256029\n",
              "109.20.130.175     1.252003\n",
              "109.88.115.225     1.255524\n",
              "11.46.139.55       1.253007\n",
              "                     ...   \n",
              "93.62.167.155      1.254013\n",
              "94.122.47.146      1.252505\n",
              "96.164.2.242       1.254013\n",
              "96.175.155.142     1.255524\n",
              "96.201.84.164      1.255020\n",
              "Name: query_num, Length: 98, dtype: float64"
            ],
            "text/html": [
              "<div>\n",
              "<style scoped>\n",
              "    .dataframe tbody tr th:only-of-type {\n",
              "        vertical-align: middle;\n",
              "    }\n",
              "\n",
              "    .dataframe tbody tr th {\n",
              "        vertical-align: top;\n",
              "    }\n",
              "\n",
              "    .dataframe thead th {\n",
              "        text-align: right;\n",
              "    }\n",
              "</style>\n",
              "<table border=\"1\" class=\"dataframe\">\n",
              "  <thead>\n",
              "    <tr style=\"text-align: right;\">\n",
              "      <th></th>\n",
              "      <th>query_num</th>\n",
              "    </tr>\n",
              "    <tr>\n",
              "      <th>IP</th>\n",
              "      <th></th>\n",
              "    </tr>\n",
              "  </thead>\n",
              "  <tbody>\n",
              "    <tr>\n",
              "      <th>0.245.23.91</th>\n",
              "      <td>1.254013</td>\n",
              "    </tr>\n",
              "    <tr>\n",
              "      <th>104.107.150.164</th>\n",
              "      <td>1.256029</td>\n",
              "    </tr>\n",
              "    <tr>\n",
              "      <th>109.20.130.175</th>\n",
              "      <td>1.252003</td>\n",
              "    </tr>\n",
              "    <tr>\n",
              "      <th>109.88.115.225</th>\n",
              "      <td>1.255524</td>\n",
              "    </tr>\n",
              "    <tr>\n",
              "      <th>11.46.139.55</th>\n",
              "      <td>1.253007</td>\n",
              "    </tr>\n",
              "    <tr>\n",
              "      <th>...</th>\n",
              "      <td>...</td>\n",
              "    </tr>\n",
              "    <tr>\n",
              "      <th>93.62.167.155</th>\n",
              "      <td>1.254013</td>\n",
              "    </tr>\n",
              "    <tr>\n",
              "      <th>94.122.47.146</th>\n",
              "      <td>1.252505</td>\n",
              "    </tr>\n",
              "    <tr>\n",
              "      <th>96.164.2.242</th>\n",
              "      <td>1.254013</td>\n",
              "    </tr>\n",
              "    <tr>\n",
              "      <th>96.175.155.142</th>\n",
              "      <td>1.255524</td>\n",
              "    </tr>\n",
              "    <tr>\n",
              "      <th>96.201.84.164</th>\n",
              "      <td>1.255020</td>\n",
              "    </tr>\n",
              "  </tbody>\n",
              "</table>\n",
              "<p>98 rows × 1 columns</p>\n",
              "</div><br><label><b>dtype:</b> float64</label>"
            ]
          },
          "metadata": {},
          "execution_count": 15
        }
      ]
    },
    {
      "cell_type": "markdown",
      "source": [
        "Full stream returns $1000$ users with average number of repeated queries around $1.25$.\n",
        "\n",
        "Naive sample returns $1000$ users, but their average number of repeated queries is around $1.01$, which is not correct answer.\n",
        "\n",
        "Proper sample returns $98$ users (which is around $10\\%$ of $1000$) with exactly the same average number of repeated queries. This is because a user will either have all of their queries sampled of none at all."
      ],
      "metadata": {
        "id": "ktefsHXfkQjY"
      }
    }
  ]
}