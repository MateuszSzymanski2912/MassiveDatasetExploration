{
  "nbformat": 4,
  "nbformat_minor": 0,
  "metadata": {
    "colab": {
      "provenance": [],
      "gpuType": "T4"
    },
    "kernelspec": {
      "name": "python3",
      "display_name": "Python 3"
    },
    "language_info": {
      "name": "python"
    },
    "accelerator": "GPU"
  },
  "cells": [
    {
      "cell_type": "markdown",
      "source": [
        "### Task: create recommendations for netflix watchers using SVD"
      ],
      "metadata": {
        "id": "dvyMhiiMDkLP"
      }
    },
    {
      "cell_type": "code",
      "source": [
        "import pandas as pd\n",
        "import numpy as np\n",
        "from tqdm import tqdm\n",
        "from google.colab import drive\n",
        "from scipy.sparse import csr_matrix\n",
        "import sys"
      ],
      "metadata": {
        "id": "xTHy1_YTjzum"
      },
      "execution_count": 1,
      "outputs": []
    },
    {
      "cell_type": "code",
      "source": [
        "drive.mount('/content/drive')"
      ],
      "metadata": {
        "colab": {
          "base_uri": "https://localhost:8080/"
        },
        "id": "F6NKZmN7rIYN",
        "outputId": "246d3505-e114-4085-c232-b3fcd1d46894"
      },
      "execution_count": 2,
      "outputs": [
        {
          "output_type": "stream",
          "name": "stdout",
          "text": [
            "Drive already mounted at /content/drive; to attempt to forcibly remount, call drive.mount(\"/content/drive\", force_remount=True).\n"
          ]
        }
      ]
    },
    {
      "cell_type": "code",
      "source": [
        "netflix = pd.read_csv('drive/MyDrive/netflix0.2_train.txt', header = None)\n",
        "netflix.columns = ['WatcherID', 'MovieID', 'Rating']\n",
        "netflix.head()"
      ],
      "metadata": {
        "colab": {
          "base_uri": "https://localhost:8080/",
          "height": 206
        },
        "id": "PlACuV4YlM6u",
        "outputId": "18ddb642-47db-4206-b5b7-3b383b116547"
      },
      "execution_count": 3,
      "outputs": [
        {
          "output_type": "execute_result",
          "data": {
            "text/plain": [
              "   WatcherID  MovieID  Rating\n",
              "0          1  1086807       3\n",
              "1          1   525356       2\n",
              "2          1  1196100       4\n",
              "3          1  1792741       2\n",
              "4          1   769643       1"
            ],
            "text/html": [
              "\n",
              "  <div id=\"df-4ddaba80-5420-4f2f-9a0a-82879674a848\" class=\"colab-df-container\">\n",
              "    <div>\n",
              "<style scoped>\n",
              "    .dataframe tbody tr th:only-of-type {\n",
              "        vertical-align: middle;\n",
              "    }\n",
              "\n",
              "    .dataframe tbody tr th {\n",
              "        vertical-align: top;\n",
              "    }\n",
              "\n",
              "    .dataframe thead th {\n",
              "        text-align: right;\n",
              "    }\n",
              "</style>\n",
              "<table border=\"1\" class=\"dataframe\">\n",
              "  <thead>\n",
              "    <tr style=\"text-align: right;\">\n",
              "      <th></th>\n",
              "      <th>WatcherID</th>\n",
              "      <th>MovieID</th>\n",
              "      <th>Rating</th>\n",
              "    </tr>\n",
              "  </thead>\n",
              "  <tbody>\n",
              "    <tr>\n",
              "      <th>0</th>\n",
              "      <td>1</td>\n",
              "      <td>1086807</td>\n",
              "      <td>3</td>\n",
              "    </tr>\n",
              "    <tr>\n",
              "      <th>1</th>\n",
              "      <td>1</td>\n",
              "      <td>525356</td>\n",
              "      <td>2</td>\n",
              "    </tr>\n",
              "    <tr>\n",
              "      <th>2</th>\n",
              "      <td>1</td>\n",
              "      <td>1196100</td>\n",
              "      <td>4</td>\n",
              "    </tr>\n",
              "    <tr>\n",
              "      <th>3</th>\n",
              "      <td>1</td>\n",
              "      <td>1792741</td>\n",
              "      <td>2</td>\n",
              "    </tr>\n",
              "    <tr>\n",
              "      <th>4</th>\n",
              "      <td>1</td>\n",
              "      <td>769643</td>\n",
              "      <td>1</td>\n",
              "    </tr>\n",
              "  </tbody>\n",
              "</table>\n",
              "</div>\n",
              "    <div class=\"colab-df-buttons\">\n",
              "\n",
              "  <div class=\"colab-df-container\">\n",
              "    <button class=\"colab-df-convert\" onclick=\"convertToInteractive('df-4ddaba80-5420-4f2f-9a0a-82879674a848')\"\n",
              "            title=\"Convert this dataframe to an interactive table.\"\n",
              "            style=\"display:none;\">\n",
              "\n",
              "  <svg xmlns=\"http://www.w3.org/2000/svg\" height=\"24px\" viewBox=\"0 -960 960 960\">\n",
              "    <path d=\"M120-120v-720h720v720H120Zm60-500h600v-160H180v160Zm220 220h160v-160H400v160Zm0 220h160v-160H400v160ZM180-400h160v-160H180v160Zm440 0h160v-160H620v160ZM180-180h160v-160H180v160Zm440 0h160v-160H620v160Z\"/>\n",
              "  </svg>\n",
              "    </button>\n",
              "\n",
              "  <style>\n",
              "    .colab-df-container {\n",
              "      display:flex;\n",
              "      gap: 12px;\n",
              "    }\n",
              "\n",
              "    .colab-df-convert {\n",
              "      background-color: #E8F0FE;\n",
              "      border: none;\n",
              "      border-radius: 50%;\n",
              "      cursor: pointer;\n",
              "      display: none;\n",
              "      fill: #1967D2;\n",
              "      height: 32px;\n",
              "      padding: 0 0 0 0;\n",
              "      width: 32px;\n",
              "    }\n",
              "\n",
              "    .colab-df-convert:hover {\n",
              "      background-color: #E2EBFA;\n",
              "      box-shadow: 0px 1px 2px rgba(60, 64, 67, 0.3), 0px 1px 3px 1px rgba(60, 64, 67, 0.15);\n",
              "      fill: #174EA6;\n",
              "    }\n",
              "\n",
              "    .colab-df-buttons div {\n",
              "      margin-bottom: 4px;\n",
              "    }\n",
              "\n",
              "    [theme=dark] .colab-df-convert {\n",
              "      background-color: #3B4455;\n",
              "      fill: #D2E3FC;\n",
              "    }\n",
              "\n",
              "    [theme=dark] .colab-df-convert:hover {\n",
              "      background-color: #434B5C;\n",
              "      box-shadow: 0px 1px 3px 1px rgba(0, 0, 0, 0.15);\n",
              "      filter: drop-shadow(0px 1px 2px rgba(0, 0, 0, 0.3));\n",
              "      fill: #FFFFFF;\n",
              "    }\n",
              "  </style>\n",
              "\n",
              "    <script>\n",
              "      const buttonEl =\n",
              "        document.querySelector('#df-4ddaba80-5420-4f2f-9a0a-82879674a848 button.colab-df-convert');\n",
              "      buttonEl.style.display =\n",
              "        google.colab.kernel.accessAllowed ? 'block' : 'none';\n",
              "\n",
              "      async function convertToInteractive(key) {\n",
              "        const element = document.querySelector('#df-4ddaba80-5420-4f2f-9a0a-82879674a848');\n",
              "        const dataTable =\n",
              "          await google.colab.kernel.invokeFunction('convertToInteractive',\n",
              "                                                    [key], {});\n",
              "        if (!dataTable) return;\n",
              "\n",
              "        const docLinkHtml = 'Like what you see? Visit the ' +\n",
              "          '<a target=\"_blank\" href=https://colab.research.google.com/notebooks/data_table.ipynb>data table notebook</a>'\n",
              "          + ' to learn more about interactive tables.';\n",
              "        element.innerHTML = '';\n",
              "        dataTable['output_type'] = 'display_data';\n",
              "        await google.colab.output.renderOutput(dataTable, element);\n",
              "        const docLink = document.createElement('div');\n",
              "        docLink.innerHTML = docLinkHtml;\n",
              "        element.appendChild(docLink);\n",
              "      }\n",
              "    </script>\n",
              "  </div>\n",
              "\n",
              "\n",
              "    <div id=\"df-98d45133-f432-4e85-b9cb-a913736e9453\">\n",
              "      <button class=\"colab-df-quickchart\" onclick=\"quickchart('df-98d45133-f432-4e85-b9cb-a913736e9453')\"\n",
              "                title=\"Suggest charts\"\n",
              "                style=\"display:none;\">\n",
              "\n",
              "<svg xmlns=\"http://www.w3.org/2000/svg\" height=\"24px\"viewBox=\"0 0 24 24\"\n",
              "     width=\"24px\">\n",
              "    <g>\n",
              "        <path d=\"M19 3H5c-1.1 0-2 .9-2 2v14c0 1.1.9 2 2 2h14c1.1 0 2-.9 2-2V5c0-1.1-.9-2-2-2zM9 17H7v-7h2v7zm4 0h-2V7h2v10zm4 0h-2v-4h2v4z\"/>\n",
              "    </g>\n",
              "</svg>\n",
              "      </button>\n",
              "\n",
              "<style>\n",
              "  .colab-df-quickchart {\n",
              "      --bg-color: #E8F0FE;\n",
              "      --fill-color: #1967D2;\n",
              "      --hover-bg-color: #E2EBFA;\n",
              "      --hover-fill-color: #174EA6;\n",
              "      --disabled-fill-color: #AAA;\n",
              "      --disabled-bg-color: #DDD;\n",
              "  }\n",
              "\n",
              "  [theme=dark] .colab-df-quickchart {\n",
              "      --bg-color: #3B4455;\n",
              "      --fill-color: #D2E3FC;\n",
              "      --hover-bg-color: #434B5C;\n",
              "      --hover-fill-color: #FFFFFF;\n",
              "      --disabled-bg-color: #3B4455;\n",
              "      --disabled-fill-color: #666;\n",
              "  }\n",
              "\n",
              "  .colab-df-quickchart {\n",
              "    background-color: var(--bg-color);\n",
              "    border: none;\n",
              "    border-radius: 50%;\n",
              "    cursor: pointer;\n",
              "    display: none;\n",
              "    fill: var(--fill-color);\n",
              "    height: 32px;\n",
              "    padding: 0;\n",
              "    width: 32px;\n",
              "  }\n",
              "\n",
              "  .colab-df-quickchart:hover {\n",
              "    background-color: var(--hover-bg-color);\n",
              "    box-shadow: 0 1px 2px rgba(60, 64, 67, 0.3), 0 1px 3px 1px rgba(60, 64, 67, 0.15);\n",
              "    fill: var(--button-hover-fill-color);\n",
              "  }\n",
              "\n",
              "  .colab-df-quickchart-complete:disabled,\n",
              "  .colab-df-quickchart-complete:disabled:hover {\n",
              "    background-color: var(--disabled-bg-color);\n",
              "    fill: var(--disabled-fill-color);\n",
              "    box-shadow: none;\n",
              "  }\n",
              "\n",
              "  .colab-df-spinner {\n",
              "    border: 2px solid var(--fill-color);\n",
              "    border-color: transparent;\n",
              "    border-bottom-color: var(--fill-color);\n",
              "    animation:\n",
              "      spin 1s steps(1) infinite;\n",
              "  }\n",
              "\n",
              "  @keyframes spin {\n",
              "    0% {\n",
              "      border-color: transparent;\n",
              "      border-bottom-color: var(--fill-color);\n",
              "      border-left-color: var(--fill-color);\n",
              "    }\n",
              "    20% {\n",
              "      border-color: transparent;\n",
              "      border-left-color: var(--fill-color);\n",
              "      border-top-color: var(--fill-color);\n",
              "    }\n",
              "    30% {\n",
              "      border-color: transparent;\n",
              "      border-left-color: var(--fill-color);\n",
              "      border-top-color: var(--fill-color);\n",
              "      border-right-color: var(--fill-color);\n",
              "    }\n",
              "    40% {\n",
              "      border-color: transparent;\n",
              "      border-right-color: var(--fill-color);\n",
              "      border-top-color: var(--fill-color);\n",
              "    }\n",
              "    60% {\n",
              "      border-color: transparent;\n",
              "      border-right-color: var(--fill-color);\n",
              "    }\n",
              "    80% {\n",
              "      border-color: transparent;\n",
              "      border-right-color: var(--fill-color);\n",
              "      border-bottom-color: var(--fill-color);\n",
              "    }\n",
              "    90% {\n",
              "      border-color: transparent;\n",
              "      border-bottom-color: var(--fill-color);\n",
              "    }\n",
              "  }\n",
              "</style>\n",
              "\n",
              "      <script>\n",
              "        async function quickchart(key) {\n",
              "          const quickchartButtonEl =\n",
              "            document.querySelector('#' + key + ' button');\n",
              "          quickchartButtonEl.disabled = true;  // To prevent multiple clicks.\n",
              "          quickchartButtonEl.classList.add('colab-df-spinner');\n",
              "          try {\n",
              "            const charts = await google.colab.kernel.invokeFunction(\n",
              "                'suggestCharts', [key], {});\n",
              "          } catch (error) {\n",
              "            console.error('Error during call to suggestCharts:', error);\n",
              "          }\n",
              "          quickchartButtonEl.classList.remove('colab-df-spinner');\n",
              "          quickchartButtonEl.classList.add('colab-df-quickchart-complete');\n",
              "        }\n",
              "        (() => {\n",
              "          let quickchartButtonEl =\n",
              "            document.querySelector('#df-98d45133-f432-4e85-b9cb-a913736e9453 button');\n",
              "          quickchartButtonEl.style.display =\n",
              "            google.colab.kernel.accessAllowed ? 'block' : 'none';\n",
              "        })();\n",
              "      </script>\n",
              "    </div>\n",
              "\n",
              "    </div>\n",
              "  </div>\n"
            ],
            "application/vnd.google.colaboratory.intrinsic+json": {
              "type": "dataframe",
              "variable_name": "netflix",
              "summary": "{\n  \"name\": \"netflix\",\n  \"rows\": 100000,\n  \"fields\": [\n    {\n      \"column\": \"WatcherID\",\n      \"properties\": {\n        \"dtype\": \"number\",\n        \"std\": 76,\n        \"min\": 1,\n        \"max\": 257,\n        \"num_unique_values\": 257,\n        \"samples\": [\n          166,\n          187,\n          83\n        ],\n        \"semantic_type\": \"\",\n        \"description\": \"\"\n      }\n    },\n    {\n      \"column\": \"MovieID\",\n      \"properties\": {\n        \"dtype\": \"number\",\n        \"std\": 765400,\n        \"min\": 6,\n        \"max\": 2649429,\n        \"num_unique_values\": 76332,\n        \"samples\": [\n          1731259,\n          2265506,\n          2180836\n        ],\n        \"semantic_type\": \"\",\n        \"description\": \"\"\n      }\n    },\n    {\n      \"column\": \"Rating\",\n      \"properties\": {\n        \"dtype\": \"number\",\n        \"std\": 1,\n        \"min\": 1,\n        \"max\": 5,\n        \"num_unique_values\": 5,\n        \"samples\": [\n          2,\n          5,\n          4\n        ],\n        \"semantic_type\": \"\",\n        \"description\": \"\"\n      }\n    }\n  ]\n}"
            }
          },
          "metadata": {},
          "execution_count": 3
        }
      ]
    },
    {
      "cell_type": "code",
      "source": [
        "print(netflix.memory_usage(index=True).sum()/1024**2) # around 2 MB"
      ],
      "metadata": {
        "colab": {
          "base_uri": "https://localhost:8080/"
        },
        "id": "sbuCiBMpwoqP",
        "outputId": "4684ff5d-ec4e-4dd9-f5ae-5fb6a61ad58d"
      },
      "execution_count": 4,
      "outputs": [
        {
          "output_type": "stream",
          "name": "stdout",
          "text": [
            "2.2889442443847656\n"
          ]
        }
      ]
    },
    {
      "cell_type": "code",
      "source": [
        "netflix.shape[0] #100,000 ratings"
      ],
      "metadata": {
        "colab": {
          "base_uri": "https://localhost:8080/"
        },
        "id": "P2IY5DVwmvxg",
        "outputId": "6a40e94c-7b8e-414a-b87b-b33618901bd7"
      },
      "execution_count": 5,
      "outputs": [
        {
          "output_type": "execute_result",
          "data": {
            "text/plain": [
              "100000"
            ]
          },
          "metadata": {},
          "execution_count": 5
        }
      ]
    },
    {
      "cell_type": "code",
      "source": [
        "len(netflix['WatcherID'].unique()) #257 watchers"
      ],
      "metadata": {
        "colab": {
          "base_uri": "https://localhost:8080/"
        },
        "id": "l-8cZY9FsB-k",
        "outputId": "ebc960a9-463b-4ea6-c42e-d284988809aa"
      },
      "execution_count": 6,
      "outputs": [
        {
          "output_type": "execute_result",
          "data": {
            "text/plain": [
              "257"
            ]
          },
          "metadata": {},
          "execution_count": 6
        }
      ]
    },
    {
      "cell_type": "code",
      "source": [
        "len(netflix['MovieID'].unique()) #76332 movies"
      ],
      "metadata": {
        "colab": {
          "base_uri": "https://localhost:8080/"
        },
        "id": "2g3pEY53ncFY",
        "outputId": "0bb4c653-124d-4951-f2ea-c6eb8def8463"
      },
      "execution_count": 7,
      "outputs": [
        {
          "output_type": "execute_result",
          "data": {
            "text/plain": [
              "76332"
            ]
          },
          "metadata": {},
          "execution_count": 7
        }
      ]
    },
    {
      "cell_type": "markdown",
      "source": [
        "$257*76332 = 19617324$. This means that only $100000$ out of $19617324$ entries are non zero - that's about $0.5\\%$. We can use sparse representation to safe space."
      ],
      "metadata": {
        "id": "S6Bvuxy2ABeX"
      }
    },
    {
      "cell_type": "code",
      "source": [
        "R = netflix.pivot(index='WatcherID', columns='MovieID', values='Rating')\n",
        "R.fillna(0, inplace = True)\n",
        "#col = R.columns\n",
        "#idx = R.index\n",
        "R.columns = [i for i in range(R.shape[1])]\n",
        "R.index = [i for i in range(R.shape[0])]\n",
        "R_np = np.array(R)"
      ],
      "metadata": {
        "id": "wfLOSE9amVaz"
      },
      "execution_count": 8,
      "outputs": []
    },
    {
      "cell_type": "code",
      "source": [
        "print(R.memory_usage(index=True).sum()/1024**2) #around 150MB used in dense representation"
      ],
      "metadata": {
        "colab": {
          "base_uri": "https://localhost:8080/"
        },
        "id": "ns_3gc05u9Vc",
        "outputId": "cf95d698-2717-40f9-bf9d-04b831439723"
      },
      "execution_count": 9,
      "outputs": [
        {
          "output_type": "stream",
          "name": "stdout",
          "text": [
            "149.6702651977539\n"
          ]
        }
      ]
    },
    {
      "cell_type": "code",
      "source": [
        "sp = csr_matrix(R)"
      ],
      "metadata": {
        "id": "G6JEufTNVR50"
      },
      "execution_count": 10,
      "outputs": []
    },
    {
      "cell_type": "code",
      "source": [
        "sparse_mem = sys.getsizeof(sp.data) + sys.getsizeof(sp.indices) + sys.getsizeof(sp.indptr)\n",
        "print(sparse_mem/1024) # around 1kB - huge difference, managable for massive datasets"
      ],
      "metadata": {
        "colab": {
          "base_uri": "https://localhost:8080/"
        },
        "id": "vBcyEAGnXR-T",
        "outputId": "8e9d2246-ffd4-4403-fb44-4e4df9f08959"
      },
      "execution_count": 11,
      "outputs": [
        {
          "output_type": "stream",
          "name": "stdout",
          "text": [
            "1.3359375\n"
          ]
        }
      ]
    },
    {
      "cell_type": "markdown",
      "source": [
        "We can't directly use SVD, because we have matrix with missing data. Instead we will try to approximate it by starting with two random matrices and then use backpropagation with mean squared error as loss function. Given matrix $R$ of size $N$x$M$, the SVD approximation process will look like this\n",
        "\n",
        "---\n",
        "Step 1: Start with two random matrices - $P$ of size $N$x$K$ and $Q$ of size $K$x$M$, where $K$ is the number of singular values you want\n",
        "\n",
        "Step 2: Compute reconstruction loss $L$\n",
        "\\begin{equation}\n",
        "L = \\sum_{i=1}^N \\sum_{j=1}^M (R_{ij} - (P \\cdot Q)_{ij})^2.\n",
        "\\end{equation}\n",
        "If it's small enough, we can stop early. Otherwise we update the values with this rule\n",
        "\\begin{equation}\n",
        "P_{im} = P_{im} - \\alpha(J_{ij}*Q_{mj} + \\beta*P_{im})\n",
        "\\end{equation}\n",
        "\\begin{equation}\n",
        "Q_{mj} = Q_{mj} - \\alpha(J_{ij}*P_{im} + \\beta*Q_{mj}),\n",
        "\\end{equation}\n",
        "where $J_{ij} = \\frac{\\partial L}{\\partial (P \\cdot Q)_{ij}} = -2*(R_{ij} - (P \\cdot Q)_{ij})$, $\\alpha$ is learning rate and $\\beta$ is $L_2$ regularization hyperparameter.\n",
        "\n",
        "Step 3: Repeat step 2 for given number of epochs."
      ],
      "metadata": {
        "id": "gsV6CcDMD6sM"
      }
    },
    {
      "cell_type": "code",
      "source": [
        "N = len(R_np)\n",
        "M = len(R_np[0])\n",
        "K = 5\n",
        "\n",
        "P1 = np.random.rand(N, K)\n",
        "Q1 = np.random.rand(K, M)\n",
        "P2 = np.random.rand(N, K)\n",
        "Q2 = np.random.rand(K, M)"
      ],
      "metadata": {
        "id": "N4tQQXvcxymJ"
      },
      "execution_count": 12,
      "outputs": []
    },
    {
      "cell_type": "code",
      "source": [
        "def error(R, P, Q):\n",
        "    err = 0\n",
        "    rows, cols = R.nonzero()\n",
        "    for i, j in zip(rows, cols):\n",
        "        err += (R[i, j] - np.dot(P[i, :], Q[:, j])) ** 2\n",
        "    return err\n",
        "\n",
        "def matrix_factorization(R, P, Q, beta, alpha=0.01, epochs = 200):\n",
        "    for _ in tqdm(range(epochs)):\n",
        "        rows, cols = R.nonzero()\n",
        "        for i, j in zip(rows, cols):\n",
        "            for m in range(len(P[0])):\n",
        "                #backpropagation\n",
        "                Jij = -2 * (R[i, j] - np.dot(P[i, :], Q[:, j]))\n",
        "                P[i, m] = P[i, m] - alpha * (Jij * Q[m, j] + beta * P[i, m])\n",
        "                Q[m, j] = Q[m, j] - alpha * (Jij * P[i, m] + beta * Q[m, j])\n",
        "\n",
        "        if error(R, P, Q) < 0.06: #early stopping if loss is sufficiently small\n",
        "            break"
      ],
      "metadata": {
        "id": "gXccd10pXvfl"
      },
      "execution_count": 13,
      "outputs": []
    },
    {
      "cell_type": "code",
      "source": [
        "matrix_factorization(R = sp, P = P1, Q = Q1, beta = 0.02) # with regularization"
      ],
      "metadata": {
        "colab": {
          "base_uri": "https://localhost:8080/"
        },
        "id": "fUEbTHIszCQJ",
        "outputId": "763dcee3-b714-4718-86e5-142102a2c8fc"
      },
      "execution_count": 14,
      "outputs": [
        {
          "output_type": "stream",
          "name": "stderr",
          "text": [
            "100%|██████████| 200/200 [54:05<00:00, 16.23s/it]\n"
          ]
        }
      ]
    },
    {
      "cell_type": "code",
      "source": [
        "matrix_factorization(R = sp, P = P2, Q = Q2, beta = 0) # without regularization"
      ],
      "metadata": {
        "colab": {
          "base_uri": "https://localhost:8080/"
        },
        "id": "EXrkg46cUFci",
        "outputId": "0f9d25f3-9b47-44ca-b6b8-09bceaec00e3"
      },
      "execution_count": 15,
      "outputs": [
        {
          "output_type": "stream",
          "name": "stderr",
          "text": [
            "100%|██████████| 200/200 [53:16<00:00, 15.98s/it]\n"
          ]
        }
      ]
    },
    {
      "cell_type": "code",
      "source": [
        "e1 = error(sp, P1, Q1)\n",
        "RMSE1 = np.sqrt(e1/np.linalg.norm(R))\n",
        "print(RMSE1) #1.162"
      ],
      "metadata": {
        "colab": {
          "base_uri": "https://localhost:8080/"
        },
        "id": "w0mDCNOzX4RK",
        "outputId": "21806e93-2173-4d76-ac4a-63c9ab296bb1"
      },
      "execution_count": 16,
      "outputs": [
        {
          "output_type": "stream",
          "name": "stdout",
          "text": [
            "1.1624436424202653\n"
          ]
        }
      ]
    },
    {
      "cell_type": "code",
      "source": [
        "e2 = error(sp, P2, Q2)\n",
        "RMSE2 = np.sqrt(e2/np.linalg.norm(R))\n",
        "print(RMSE2) #0.678"
      ],
      "metadata": {
        "colab": {
          "base_uri": "https://localhost:8080/"
        },
        "id": "9IQN85oUUSdL",
        "outputId": "51699de5-56c2-49b7-f24a-ae86f096c484"
      },
      "execution_count": 17,
      "outputs": [
        {
          "output_type": "stream",
          "name": "stdout",
          "text": [
            "0.6784141181145448\n"
          ]
        }
      ]
    },
    {
      "cell_type": "markdown",
      "source": [
        "The whole process takes a while, but once it's done you dont have to train it again (unless you get new data). Another good thing about SVD based recommendation is that you don't have to keep entire matrix - it might be too big. If you need rating for specific watcher for specific movie, just multiply corresponding row and column of decomposition matrices."
      ],
      "metadata": {
        "id": "exlvXMr5Ro_S"
      }
    },
    {
      "cell_type": "code",
      "source": [],
      "metadata": {
        "id": "kM4h8nLBSf_T"
      },
      "execution_count": null,
      "outputs": []
    }
  ]
}