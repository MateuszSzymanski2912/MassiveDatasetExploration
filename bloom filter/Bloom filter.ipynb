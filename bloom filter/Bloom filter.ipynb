{
  "nbformat": 4,
  "nbformat_minor": 0,
  "metadata": {
    "colab": {
      "provenance": []
    },
    "kernelspec": {
      "name": "python3",
      "display_name": "Python 3"
    },
    "language_info": {
      "name": "python"
    }
  },
  "cells": [
    {
      "cell_type": "markdown",
      "source": [
        "### Task: Implement Bloom filter and test it on two animal lists given below"
      ],
      "metadata": {
        "id": "kUWdQyRLlUjR"
      }
    },
    {
      "cell_type": "code",
      "source": [
        "animals = ['dog', 'cat', 'giraffe', 'fly', 'mosquito', 'horse', 'eagle',\n",
        "           'bird', 'bison', 'boar', 'butterfly', 'ant', 'anaconda', 'bear',\n",
        "           'chicken', 'dolphin', 'donkey', 'crow', 'crocodile']\n",
        "\n",
        "other_animals = ['badger', 'cow', 'pig', 'sheep', 'bee', 'wolf', 'fox',\n",
        "                 'whale', 'shark', 'fish', 'turkey', 'duck', 'dove',\n",
        "                 'deer', 'elephant', 'frog', 'falcon', 'goat', 'gorilla',\n",
        "                 'hawk']"
      ],
      "metadata": {
        "id": "kLjjDcR5l0ub"
      },
      "execution_count": 1,
      "outputs": []
    },
    {
      "cell_type": "code",
      "source": [
        "!pip install mmh3\n",
        "import mmh3\n",
        "from random import randint"
      ],
      "metadata": {
        "colab": {
          "base_uri": "https://localhost:8080/"
        },
        "id": "p0oYHXziK5H_",
        "outputId": "11f3ea7f-cb72-4751-b247-fb0c20fe0077"
      },
      "execution_count": 2,
      "outputs": [
        {
          "output_type": "stream",
          "name": "stdout",
          "text": [
            "Collecting mmh3\n",
            "  Downloading mmh3-5.1.0-cp311-cp311-manylinux_2_5_x86_64.manylinux1_x86_64.manylinux_2_17_x86_64.manylinux2014_x86_64.whl.metadata (16 kB)\n",
            "Downloading mmh3-5.1.0-cp311-cp311-manylinux_2_5_x86_64.manylinux1_x86_64.manylinux_2_17_x86_64.manylinux2014_x86_64.whl (101 kB)\n",
            "\u001b[?25l   \u001b[90m━━━━━━━━━━━━━━━━━━━━━━━━━━━━━━━━━━━━━━━━\u001b[0m \u001b[32m0.0/101.6 kB\u001b[0m \u001b[31m?\u001b[0m eta \u001b[36m-:--:--\u001b[0m\r\u001b[2K   \u001b[90m━━━━━━━━━━━━━━━━━━━━━━━━━━━━━━━━━━━━━━━━\u001b[0m \u001b[32m101.6/101.6 kB\u001b[0m \u001b[31m2.8 MB/s\u001b[0m eta \u001b[36m0:00:00\u001b[0m\n",
            "\u001b[?25hInstalling collected packages: mmh3\n",
            "Successfully installed mmh3-5.1.0\n"
          ]
        }
      ]
    },
    {
      "cell_type": "code",
      "execution_count": 3,
      "metadata": {
        "id": "Rc-4Oyi8KCYR"
      },
      "outputs": [],
      "source": [
        "class BloomFilter():\n",
        "  def __init__(self, L, hash_num):\n",
        "    self.L = L #length of bitmap\n",
        "    self.hash_num = hash_num #number of hash functions\n",
        "    self.B = [0 for i in range(self.L)] #bitmap\n",
        "    self.seeds = [randint(100, 1000) for _ in range(self.hash_num)]\n",
        "    self.H = [lambda s: mmh3.hash(s, seed) for seed in self.seeds] #list of hash functions\n",
        "\n",
        "  def add(self, key): #add element to set\n",
        "    for h in self.H:\n",
        "      self.B[h(key) % self.L] = 1\n",
        "\n",
        "  def isin(self, key): #check if element is in the set\n",
        "    for h in self.H:\n",
        "      if self.B[h(key) % self.L] == 0:\n",
        "        return False\n",
        "    return True"
      ]
    },
    {
      "cell_type": "markdown",
      "source": [
        "Bloom filter characterizes itself with high space efficiency and no false negatives (meaning that if element isn't in the set, then bloom filter will detect that with $100\\%$ accuracy). It has capacity for false postives (if element isn't in the set, then bloom filter *might* detect it as element in the set). Therefore, bloom filter excels at detecting if element is *definitely not* in set, and you can tolerate a bit of false positives."
      ],
      "metadata": {
        "id": "LrPcJXQkS4Xm"
      }
    },
    {
      "cell_type": "code",
      "source": [
        "bloom = [BloomFilter(L = 100, hash_num = 4), BloomFilter(L = 100, hash_num = 20),\n",
        "         BloomFilter(L = 500, hash_num = 4), BloomFilter(L = 500, hash_num = 20)]\n",
        "\n",
        "for animal in animals:\n",
        "  for b in bloom:\n",
        "    b.add(animal)"
      ],
      "metadata": {
        "id": "UtpuYs4nOvXy"
      },
      "execution_count": 4,
      "outputs": []
    },
    {
      "cell_type": "code",
      "source": [
        "FP = [0 for i in range(len(bloom))]\n",
        "for n, b in enumerate(bloom):\n",
        "  print(f\"\\n{n+1}. L = {b.L}, hash_num = {b.hash_num}\")\n",
        "  for other in other_animals:\n",
        "    if b.isin(other):\n",
        "      FP[n] += 1\n",
        "      print(other)\n",
        "  print(f'FP = {FP[n]}, FPR = {100*FP[n]/len(other_animals)}%')"
      ],
      "metadata": {
        "id": "L49l8ielPVu6",
        "colab": {
          "base_uri": "https://localhost:8080/"
        },
        "outputId": "8275a657-fbc2-48cf-a8d2-f3a4902d6e5a"
      },
      "execution_count": 5,
      "outputs": [
        {
          "output_type": "stream",
          "name": "stdout",
          "text": [
            "\n",
            "1. L = 100, hash_num = 4\n",
            "badger\n",
            "fish\n",
            "gorilla\n",
            "FP = 3, FPR = 15.0%\n",
            "\n",
            "2. L = 100, hash_num = 20\n",
            "cow\n",
            "wolf\n",
            "shark\n",
            "fish\n",
            "FP = 4, FPR = 20.0%\n",
            "\n",
            "3. L = 500, hash_num = 4\n",
            "FP = 0, FPR = 0.0%\n",
            "\n",
            "4. L = 500, hash_num = 20\n",
            "FP = 0, FPR = 0.0%\n"
          ]
        }
      ]
    },
    {
      "cell_type": "code",
      "source": [
        "#more optimal - use bitarray, since bitmap only has binary values\n",
        "!pip install bitarray\n",
        "from bitarray import bitarray"
      ],
      "metadata": {
        "id": "FUNbAetZTHj5",
        "colab": {
          "base_uri": "https://localhost:8080/"
        },
        "outputId": "a92c8015-c29f-4e93-ff0a-77432c4b4b65"
      },
      "execution_count": 6,
      "outputs": [
        {
          "output_type": "stream",
          "name": "stdout",
          "text": [
            "Collecting bitarray\n",
            "  Downloading bitarray-3.5.1-cp311-cp311-manylinux_2_17_x86_64.manylinux2014_x86_64.whl.metadata (34 kB)\n",
            "Downloading bitarray-3.5.1-cp311-cp311-manylinux_2_17_x86_64.manylinux2014_x86_64.whl (320 kB)\n",
            "\u001b[2K   \u001b[90m━━━━━━━━━━━━━━━━━━━━━━━━━━━━━━━━━━━━━━━━\u001b[0m \u001b[32m320.5/320.5 kB\u001b[0m \u001b[31m7.3 MB/s\u001b[0m eta \u001b[36m0:00:00\u001b[0m\n",
            "\u001b[?25hInstalling collected packages: bitarray\n",
            "Successfully installed bitarray-3.5.1\n"
          ]
        }
      ]
    },
    {
      "cell_type": "code",
      "source": [
        "class BloomFilter():\n",
        "  def __init__(self, L, hash_num):\n",
        "    self.L = L\n",
        "    self.hash_num = hash_num\n",
        "    self.B = bitarray(self.L)\n",
        "    self.B.setall(0)\n",
        "    self.seeds = [randint(100, 1000) for _ in range(self.hash_num)]\n",
        "    self.H = [lambda s: mmh3.hash(s, seed) for seed in self.seeds]\n",
        "\n",
        "  def add(self, key):\n",
        "    for h in self.H:\n",
        "      self.B[h(key) % self.L] = 1\n",
        "\n",
        "  def isin(self, key):\n",
        "    for h in self.H:\n",
        "      if self.B[h(key) % self.L] == 0:\n",
        "        return False\n",
        "    return True"
      ],
      "metadata": {
        "id": "OiP-q-HbWzDA"
      },
      "execution_count": 7,
      "outputs": []
    },
    {
      "cell_type": "code",
      "source": [
        "bloom = [BloomFilter(L = 100, hash_num = 4), BloomFilter(L = 100, hash_num = 20),\n",
        "         BloomFilter(L = 500, hash_num = 4), BloomFilter(L = 500, hash_num = 20)]\n",
        "\n",
        "for animal in animals:\n",
        "  for b in bloom:\n",
        "    b.add(animal)"
      ],
      "metadata": {
        "id": "2P2KBmR9XPm4"
      },
      "execution_count": 8,
      "outputs": []
    },
    {
      "cell_type": "code",
      "source": [
        "FP = [0 for i in range(len(bloom))]\n",
        "for n, b in enumerate(bloom):\n",
        "  print(f\"\\n{n+1}. L = {b.L}, hash_num = {b.hash_num}\")\n",
        "  for other in other_animals:\n",
        "    if b.isin(other):\n",
        "      FP[n] += 1\n",
        "      print(other)\n",
        "  print(f'FP = {FP[n]}, FPR = {100*FP[n]/len(other_animals)}%')"
      ],
      "metadata": {
        "colab": {
          "base_uri": "https://localhost:8080/"
        },
        "id": "U_6ZndbdXDKA",
        "outputId": "15095168-f9eb-4906-b83f-dc141f16dafc"
      },
      "execution_count": 9,
      "outputs": [
        {
          "output_type": "stream",
          "name": "stdout",
          "text": [
            "\n",
            "1. L = 100, hash_num = 4\n",
            "wolf\n",
            "turkey\n",
            "goat\n",
            "FP = 3, FPR = 15.0%\n",
            "\n",
            "2. L = 100, hash_num = 20\n",
            "dove\n",
            "frog\n",
            "FP = 2, FPR = 10.0%\n",
            "\n",
            "3. L = 500, hash_num = 4\n",
            "frog\n",
            "FP = 1, FPR = 5.0%\n",
            "\n",
            "4. L = 500, hash_num = 20\n",
            "elephant\n",
            "frog\n",
            "FP = 2, FPR = 10.0%\n"
          ]
        }
      ]
    },
    {
      "cell_type": "markdown",
      "source": [
        "Number of false positives is random, because it depends on how seed of hash function. We can however estimate (if hash functions are independent) false positive rate. Approximately, this will be equal to:\n",
        "\\begin{equation}\n",
        "FPR \\approx (1 - e^{\\frac{-kn}{L}})^k,\n",
        "\\end{equation}\n",
        "where, $k$ is number of hash functions, $n$ is  number of elements in set and $L$ is length of bitmap. In these 4 examples this probability is equal to\n",
        "\n",
        "1.   $FPR = 0.08$\n",
        "2.   $FPR = 0.64$\n",
        "3.   $FPR = 0.0004$\n",
        "4.   $FPR = 3.34*10^{-6}$\n",
        "\n",
        "These approximations might not be accurate here, because of small numbers ($19$ elements in set is laughably small)."
      ],
      "metadata": {
        "id": "4JNm-nGYq-Lt"
      }
    }
  ]
}